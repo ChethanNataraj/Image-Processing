{
 "cells": [
  {
   "cell_type": "markdown",
   "metadata": {},
   "source": [
    "# Reading image, drawing on images, writing on images"
   ]
  },
  {
   "cell_type": "code",
   "execution_count": 2,
   "metadata": {},
   "outputs": [],
   "source": [
    "import cv2"
   ]
  },
  {
   "cell_type": "code",
   "execution_count": 3,
   "metadata": {},
   "outputs": [
    {
     "data": {
      "text/plain": [
       "'4.1.0'"
      ]
     },
     "execution_count": 3,
     "metadata": {},
     "output_type": "execute_result"
    }
   ],
   "source": [
    "cv2.__version__"
   ]
  },
  {
   "cell_type": "code",
   "execution_count": 7,
   "metadata": {},
   "outputs": [],
   "source": [
    "img = cv2.imread('C:\\\\Users\\\\knataraj\\\\Desktop\\\\flower.png')"
   ]
  },
  {
   "cell_type": "code",
   "execution_count": 8,
   "metadata": {},
   "outputs": [
    {
     "data": {
      "text/plain": [
       "array([[[ 3,  3,  3],\n",
       "        [ 4,  4,  4],\n",
       "        [ 3,  3,  3],\n",
       "        ...,\n",
       "        [32, 78, 55],\n",
       "        [37, 83, 61],\n",
       "        [38, 83, 64]],\n",
       "\n",
       "       [[17, 15, 14],\n",
       "        [ 2,  4,  4],\n",
       "        [ 1,  3,  3],\n",
       "        ...,\n",
       "        [34, 77, 56],\n",
       "        [30, 74, 57],\n",
       "        [33, 78, 62]],\n",
       "\n",
       "       [[20, 15, 14],\n",
       "        [14, 14, 14],\n",
       "        [ 7,  9,  9],\n",
       "        ...,\n",
       "        [30, 74, 51],\n",
       "        [27, 72, 53],\n",
       "        [32, 78, 59]],\n",
       "\n",
       "       ...,\n",
       "\n",
       "       [[59, 33, 27],\n",
       "        [68, 33, 29],\n",
       "        [78, 39, 31],\n",
       "        ...,\n",
       "        [87, 89, 69],\n",
       "        [79, 85, 68],\n",
       "        [87, 87, 73]],\n",
       "\n",
       "       [[58, 34, 28],\n",
       "        [68, 33, 29],\n",
       "        [67, 33, 27],\n",
       "        ...,\n",
       "        [73, 79, 56],\n",
       "        [80, 90, 73],\n",
       "        [64, 76, 58]],\n",
       "\n",
       "       [[56, 33, 25],\n",
       "        [61, 31, 26],\n",
       "        [65, 33, 28],\n",
       "        ...,\n",
       "        [57, 65, 48],\n",
       "        [54, 67, 51],\n",
       "        [45, 61, 44]]], dtype=uint8)"
      ]
     },
     "execution_count": 8,
     "metadata": {},
     "output_type": "execute_result"
    }
   ],
   "source": [
    "img"
   ]
  },
  {
   "cell_type": "code",
   "execution_count": 4,
   "metadata": {},
   "outputs": [
    {
     "data": {
      "text/plain": [
       "''"
      ]
     },
     "execution_count": 4,
     "metadata": {},
     "output_type": "execute_result"
    }
   ],
   "source": [
    "cv2.line(img, (0,0), (150,150), (255,255,255), 15)\n",
    ";"
   ]
  },
  {
   "cell_type": "code",
   "execution_count": 5,
   "metadata": {},
   "outputs": [
    {
     "data": {
      "text/plain": [
       "''"
      ]
     },
     "execution_count": 5,
     "metadata": {},
     "output_type": "execute_result"
    }
   ],
   "source": [
    "cv2.rectangle(img, (10,10), (50,50), (255,255,255), 10)\n",
    ";"
   ]
  },
  {
   "cell_type": "code",
   "execution_count": 10,
   "metadata": {},
   "outputs": [
    {
     "data": {
      "text/plain": [
       "''"
      ]
     },
     "execution_count": 10,
     "metadata": {},
     "output_type": "execute_result"
    }
   ],
   "source": [
    "font = cv2.FONT_HERSHEY_COMPLEX\n",
    "cv2.putText(img, 'OpenCV Tutorials!', (0,300), cv2.FONT_HERSHEY_COMPLEX, 2, (200,200,200), 2, cv2.LINE_AA)\n",
    ";"
   ]
  },
  {
   "cell_type": "code",
   "execution_count": 11,
   "metadata": {},
   "outputs": [],
   "source": [
    "cv2.imshow('image',img)\n",
    "cv2.waitKey(0)\n",
    "cv2.destroyAllWindows()"
   ]
  },
  {
   "cell_type": "code",
   "execution_count": null,
   "metadata": {},
   "outputs": [],
   "source": []
  }
 ],
 "metadata": {
  "kernelspec": {
   "display_name": "Python 3",
   "language": "python",
   "name": "python3"
  },
  "language_info": {
   "codemirror_mode": {
    "name": "ipython",
    "version": 3
   },
   "file_extension": ".py",
   "mimetype": "text/x-python",
   "name": "python",
   "nbconvert_exporter": "python",
   "pygments_lexer": "ipython3",
   "version": "3.7.1"
  }
 },
 "nbformat": 4,
 "nbformat_minor": 2
}
