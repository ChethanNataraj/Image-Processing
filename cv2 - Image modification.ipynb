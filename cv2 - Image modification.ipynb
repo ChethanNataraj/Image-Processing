{
 "cells": [
  {
   "cell_type": "code",
   "execution_count": 1,
   "metadata": {},
   "outputs": [],
   "source": [
    "import cv2\n",
    "import numpy as np"
   ]
  },
  {
   "cell_type": "code",
   "execution_count": 2,
   "metadata": {},
   "outputs": [
    {
     "data": {
      "text/plain": [
       "(250, 500, 3)"
      ]
     },
     "execution_count": 2,
     "metadata": {},
     "output_type": "execute_result"
    }
   ],
   "source": [
    "img2 = cv2.imread('C:\\\\Users\\\\knataraj\\\\Desktop\\\\3D-Matplotlib.png')\n",
    "img2.shape"
   ]
  },
  {
   "cell_type": "code",
   "execution_count": 3,
   "metadata": {},
   "outputs": [
    {
     "data": {
      "text/plain": [
       "(250, 500, 3)"
      ]
     },
     "execution_count": 3,
     "metadata": {},
     "output_type": "execute_result"
    }
   ],
   "source": [
    "img1 = cv2.imread('C:\\\\Users\\\\knataraj\\\\Desktop\\\\mainsvmimage.png')\n",
    "img1.shape"
   ]
  },
  {
   "cell_type": "code",
   "execution_count": 4,
   "metadata": {},
   "outputs": [],
   "source": [
    "img3 = cv2.imread('C:\\\\Users\\\\knataraj\\\\Desktop\\\\mainlogo.png')"
   ]
  },
  {
   "cell_type": "code",
   "execution_count": null,
   "metadata": {},
   "outputs": [],
   "source": [
    "# adds 2 images\n",
    "#add = img1 + img2\n",
    "\n",
    "#adds pixel values\n",
    "#add = cv2.add(img1, img2)\n",
    "\n",
    "# ANOTHER WAY of adding two images\n",
    "#weighted = cv2.addWeighted(img1, 0.6, img2, 0.4, 0)\n",
    "\n",
    "rows, cols, channels = img3.shape\n",
    "roi = img2[0:rows, 0:cols]\n",
    "\n",
    "img2gray = cv2.cvtColor(img3, cv2.COLOR_BGR2GRAY)\n",
    "ret, mask = cv2.threshold(img2gray, 220, 255, cv2.THRESH_BINARY_INV)\n",
    "\n",
    "mask_inv = cv2.bitwise_not(mask)\n",
    "\n",
    "img3_bg = cv2.bitwise_and(roi, roi, mask=mask_inv)\n",
    "img3_fg = cv2.bitwise_and(img3, img3, mask=mask)\n",
    "\n",
    "dst = cv2.add(img3_bg, img3_fg)\n",
    "img2[0:rows, 0:cols] = dst\n",
    "\n",
    "cv2.imshow('image', img2)\n",
    "cv2.imshow('mask_inv', mask_inv)\n",
    "cv2.imshow('img3_bg', img3_bg)\n",
    "cv2.imshow('img3_fg', img3_fg)\n",
    "cv2.imshow('dst', dst)\n",
    "cv2.imshow('img2gray', img2gray)\n",
    "cv2.imshow('mask', mask)\n",
    "#cv2.imshow('mask', mask)\n",
    "\n",
    "\n",
    "#cv2.imshow('weighted', weighted)\n",
    "cv2.waitKey(0)\n",
    "cv2.destroyAllWindows()"
   ]
  },
  {
   "cell_type": "code",
   "execution_count": null,
   "metadata": {},
   "outputs": [],
   "source": []
  }
 ],
 "metadata": {
  "kernelspec": {
   "display_name": "Python 3",
   "language": "python",
   "name": "python3"
  },
  "language_info": {
   "codemirror_mode": {
    "name": "ipython",
    "version": 3
   },
   "file_extension": ".py",
   "mimetype": "text/x-python",
   "name": "python",
   "nbconvert_exporter": "python",
   "pygments_lexer": "ipython3",
   "version": "3.7.1"
  }
 },
 "nbformat": 4,
 "nbformat_minor": 2
}
