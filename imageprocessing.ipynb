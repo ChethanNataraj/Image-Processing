{
 "cells": [
  {
   "cell_type": "code",
   "execution_count": 21,
   "metadata": {},
   "outputs": [],
   "source": [
    "import cv2"
   ]
  },
  {
   "cell_type": "code",
   "execution_count": 192,
   "metadata": {
    "scrolled": true
   },
   "outputs": [],
   "source": [
    "image = cv2.imread(r'C:\\Users\\knataraj\\Desktop\\swan.jpg')"
   ]
  },
  {
   "cell_type": "code",
   "execution_count": 23,
   "metadata": {},
   "outputs": [
    {
     "data": {
      "text/plain": [
       "(768, 1024, 3)"
      ]
     },
     "execution_count": 23,
     "metadata": {},
     "output_type": "execute_result"
    }
   ],
   "source": [
    "image.shape"
   ]
  },
  {
   "cell_type": "code",
   "execution_count": 120,
   "metadata": {},
   "outputs": [],
   "source": [
    "cv2.namedWindow('image', cv2.WINDOW_NORMAL)\n",
    "cv2.imshow('image',image)\n",
    "cv2.waitKey(0)\n",
    "cv2.destroyAllWindows()"
   ]
  },
  {
   "cell_type": "code",
   "execution_count": 25,
   "metadata": {},
   "outputs": [
    {
     "data": {
      "text/plain": [
       "12"
      ]
     },
     "execution_count": 25,
     "metadata": {},
     "output_type": "execute_result"
    }
   ],
   "source": [
    "image[0][0][0]\n"
   ]
  },
  {
   "cell_type": "code",
   "execution_count": 26,
   "metadata": {},
   "outputs": [
    {
     "data": {
      "text/plain": [
       "array([12,  6,  1], dtype=uint8)"
      ]
     },
     "execution_count": 26,
     "metadata": {},
     "output_type": "execute_result"
    }
   ],
   "source": [
    "image[0][0]\n"
   ]
  },
  {
   "cell_type": "code",
   "execution_count": 27,
   "metadata": {},
   "outputs": [
    {
     "data": {
      "text/plain": [
       "array([[12,  6,  1],\n",
       "       [12,  6,  1],\n",
       "       [12,  6,  1],\n",
       "       ...,\n",
       "       [10,  6,  1],\n",
       "       [10,  6,  1],\n",
       "       [10,  6,  1]], dtype=uint8)"
      ]
     },
     "execution_count": 27,
     "metadata": {},
     "output_type": "execute_result"
    }
   ],
   "source": [
    "image[0]"
   ]
  },
  {
   "cell_type": "code",
   "execution_count": 36,
   "metadata": {},
   "outputs": [],
   "source": [
    "image[0:100] = (255, 255, 255)\n",
    "image[1:100] = (255, 255, 255)\n",
    "image[2:100] = (255, 255, 255)\n",
    "image[3:100] = (255, 255, 255)\n",
    "image[4:100] = (255, 255, 255)\n"
   ]
  },
  {
   "cell_type": "code",
   "execution_count": 37,
   "metadata": {},
   "outputs": [
    {
     "data": {
      "text/plain": [
       "array([[[255, 255, 255],\n",
       "        [255, 255, 255],\n",
       "        [255, 255, 255],\n",
       "        ...,\n",
       "        [255, 255, 255],\n",
       "        [255, 255, 255],\n",
       "        [255, 255, 255]],\n",
       "\n",
       "       [[255, 255, 255],\n",
       "        [255, 255, 255],\n",
       "        [255, 255, 255],\n",
       "        ...,\n",
       "        [255, 255, 255],\n",
       "        [255, 255, 255],\n",
       "        [255, 255, 255]],\n",
       "\n",
       "       [[255, 255, 255],\n",
       "        [255, 255, 255],\n",
       "        [255, 255, 255],\n",
       "        ...,\n",
       "        [255, 255, 255],\n",
       "        [255, 255, 255],\n",
       "        [255, 255, 255]],\n",
       "\n",
       "       ...,\n",
       "\n",
       "       [[  1,   1,   1],\n",
       "        [  1,   1,   1],\n",
       "        [  1,   1,   1],\n",
       "        ...,\n",
       "        [ 11,   7,   2],\n",
       "        [  9,   6,   2],\n",
       "        [  9,   6,   2]],\n",
       "\n",
       "       [[  1,   1,   1],\n",
       "        [  1,   1,   1],\n",
       "        [  1,   1,   1],\n",
       "        ...,\n",
       "        [ 10,   6,   1],\n",
       "        [  9,   6,   2],\n",
       "        [  9,   6,   2]],\n",
       "\n",
       "       [[  1,   1,   1],\n",
       "        [  1,   1,   1],\n",
       "        [  2,   2,   2],\n",
       "        ...,\n",
       "        [ 10,   6,   1],\n",
       "        [  9,   6,   2],\n",
       "        [  8,   5,   1]]], dtype=uint8)"
      ]
     },
     "execution_count": 37,
     "metadata": {},
     "output_type": "execute_result"
    }
   ],
   "source": [
    "image"
   ]
  },
  {
   "cell_type": "code",
   "execution_count": 38,
   "metadata": {},
   "outputs": [
    {
     "data": {
      "text/plain": [
       "array([[[255, 255, 255],\n",
       "        [255, 255, 255],\n",
       "        [255, 255, 255],\n",
       "        ...,\n",
       "        [255, 255, 255],\n",
       "        [255, 255, 255],\n",
       "        [255, 255, 255]],\n",
       "\n",
       "       [[255, 255, 255],\n",
       "        [255, 255, 255],\n",
       "        [255, 255, 255],\n",
       "        ...,\n",
       "        [255, 255, 255],\n",
       "        [255, 255, 255],\n",
       "        [255, 255, 255]],\n",
       "\n",
       "       [[255, 255, 255],\n",
       "        [255, 255, 255],\n",
       "        [255, 255, 255],\n",
       "        ...,\n",
       "        [255, 255, 255],\n",
       "        [255, 255, 255],\n",
       "        [255, 255, 255]],\n",
       "\n",
       "       ...,\n",
       "\n",
       "       [[  1,   1,   1],\n",
       "        [  1,   1,   1],\n",
       "        [  1,   1,   1],\n",
       "        ...,\n",
       "        [ 11,   7,   2],\n",
       "        [  9,   6,   2],\n",
       "        [  9,   6,   2]],\n",
       "\n",
       "       [[  1,   1,   1],\n",
       "        [  1,   1,   1],\n",
       "        [  1,   1,   1],\n",
       "        ...,\n",
       "        [ 10,   6,   1],\n",
       "        [  9,   6,   2],\n",
       "        [  9,   6,   2]],\n",
       "\n",
       "       [[  1,   1,   1],\n",
       "        [  1,   1,   1],\n",
       "        [  2,   2,   2],\n",
       "        ...,\n",
       "        [ 10,   6,   1],\n",
       "        [  9,   6,   2],\n",
       "        [  8,   5,   1]]], dtype=uint8)"
      ]
     },
     "execution_count": 38,
     "metadata": {},
     "output_type": "execute_result"
    }
   ],
   "source": [
    "image"
   ]
  },
  {
   "cell_type": "code",
   "execution_count": 50,
   "metadata": {},
   "outputs": [
    {
     "data": {
      "text/plain": [
       "1024"
      ]
     },
     "execution_count": 50,
     "metadata": {},
     "output_type": "execute_result"
    }
   ],
   "source": [
    "len(image[767])"
   ]
  },
  {
   "cell_type": "code",
   "execution_count": 61,
   "metadata": {},
   "outputs": [],
   "source": [
    "image[0:100, 100:500] = (255, 255, 122)"
   ]
  },
  {
   "cell_type": "code",
   "execution_count": 69,
   "metadata": {},
   "outputs": [],
   "source": [
    "image[0,0,0]=100"
   ]
  },
  {
   "cell_type": "code",
   "execution_count": 104,
   "metadata": {},
   "outputs": [
    {
     "data": {
      "text/plain": [
       "(768, 1024, 3)"
      ]
     },
     "execution_count": 104,
     "metadata": {},
     "output_type": "execute_result"
    }
   ],
   "source": [
    "image.shape"
   ]
  },
  {
   "cell_type": "code",
   "execution_count": 105,
   "metadata": {},
   "outputs": [],
   "source": [
    "image[767,0,0] = 56"
   ]
  },
  {
   "cell_type": "code",
   "execution_count": 106,
   "metadata": {},
   "outputs": [
    {
     "data": {
      "text/plain": [
       "array([[[100,  10,   0],\n",
       "        [  0,   0,   0],\n",
       "        [  0,   0,   0],\n",
       "        ...,\n",
       "        [  0,   0,   0],\n",
       "        [  0,   0,   0],\n",
       "        [  0,   0,   0]],\n",
       "\n",
       "       [[100,  10,   0],\n",
       "        [  0,   0,   0],\n",
       "        [  0,   0,   0],\n",
       "        ...,\n",
       "        [  0,   0,   0],\n",
       "        [  0,   0,   0],\n",
       "        [  0,   0,   0]],\n",
       "\n",
       "       [[100,  10,   0],\n",
       "        [  0,   0,   0],\n",
       "        [  0,   0,   0],\n",
       "        ...,\n",
       "        [  0,   0,   0],\n",
       "        [  0,   0,   0],\n",
       "        [  0,   0,  56]],\n",
       "\n",
       "       ...,\n",
       "\n",
       "       [[  1,   1,   1],\n",
       "        [  1,   1,   1],\n",
       "        [  1,   1,   1],\n",
       "        ...,\n",
       "        [ 11,   7,   2],\n",
       "        [  9,   6,   2],\n",
       "        [  9,   6,   2]],\n",
       "\n",
       "       [[  1,   1,   1],\n",
       "        [  1,   1,   1],\n",
       "        [  1,   1,   1],\n",
       "        ...,\n",
       "        [ 10,   6,   1],\n",
       "        [  9,   6,   2],\n",
       "        [  9,   6,   2]],\n",
       "\n",
       "       [[ 56,   1,   1],\n",
       "        [  1,   1,   1],\n",
       "        [  2,   2,   2],\n",
       "        ...,\n",
       "        [ 10,   6,   1],\n",
       "        [  9,   6,   2],\n",
       "        [  8,   5,   1]]], dtype=uint8)"
      ]
     },
     "execution_count": 106,
     "metadata": {},
     "output_type": "execute_result"
    }
   ],
   "source": [
    "image"
   ]
  },
  {
   "cell_type": "code",
   "execution_count": 97,
   "metadata": {},
   "outputs": [
    {
     "data": {
      "text/plain": [
       "array([0, 0, 0], dtype=uint8)"
      ]
     },
     "execution_count": 97,
     "metadata": {},
     "output_type": "execute_result"
    }
   ],
   "source": [
    "image"
   ]
  },
  {
   "cell_type": "code",
   "execution_count": 94,
   "metadata": {},
   "outputs": [
    {
     "data": {
      "text/plain": [
       "array([100,  10,   0], dtype=uint8)"
      ]
     },
     "execution_count": 94,
     "metadata": {},
     "output_type": "execute_result"
    }
   ],
   "source": [
    "image[0][0]"
   ]
  },
  {
   "cell_type": "code",
   "execution_count": 126,
   "metadata": {},
   "outputs": [],
   "source": [
    "image[150:500, 500:800, 10:20] =(0)"
   ]
  },
  {
   "cell_type": "code",
   "execution_count": 127,
   "metadata": {},
   "outputs": [],
   "source": [
    "cv2.namedWindow('image', cv2.WINDOW_NORMAL)\n",
    "cv2.imshow('image',image)\n",
    "cv2.waitKey(0)\n",
    "cv2.destroyAllWindows()"
   ]
  },
  {
   "cell_type": "code",
   "execution_count": 128,
   "metadata": {},
   "outputs": [
    {
     "data": {
      "text/plain": [
       "array([[[255, 255, 255],\n",
       "        [255, 255, 255],\n",
       "        [255, 255, 255],\n",
       "        ...,\n",
       "        [ 10,   6,   1],\n",
       "        [ 10,   6,   1],\n",
       "        [ 10,   6,   1]],\n",
       "\n",
       "       [[255, 255, 255],\n",
       "        [255, 255, 255],\n",
       "        [255, 255, 255],\n",
       "        ...,\n",
       "        [ 10,   6,   1],\n",
       "        [ 10,   6,   1],\n",
       "        [ 10,   6,   1]],\n",
       "\n",
       "       [[255, 255, 255],\n",
       "        [255, 255, 255],\n",
       "        [255, 255, 255],\n",
       "        ...,\n",
       "        [ 10,   6,   1],\n",
       "        [ 10,   6,   1],\n",
       "        [ 10,   6,   1]],\n",
       "\n",
       "       ...,\n",
       "\n",
       "       [[  1,   1,   1],\n",
       "        [  1,   1,   1],\n",
       "        [  1,   1,   1],\n",
       "        ...,\n",
       "        [ 11,   7,   2],\n",
       "        [  9,   6,   2],\n",
       "        [  9,   6,   2]],\n",
       "\n",
       "       [[  1,   1,   1],\n",
       "        [  1,   1,   1],\n",
       "        [  1,   1,   1],\n",
       "        ...,\n",
       "        [ 10,   6,   1],\n",
       "        [  9,   6,   2],\n",
       "        [  9,   6,   2]],\n",
       "\n",
       "       [[  1,   1,   1],\n",
       "        [  1,   1,   1],\n",
       "        [  2,   2,   2],\n",
       "        ...,\n",
       "        [ 10,   6,   1],\n",
       "        [  9,   6,   2],\n",
       "        [  8,   5,   1]]], dtype=uint8)"
      ]
     },
     "execution_count": 128,
     "metadata": {},
     "output_type": "execute_result"
    }
   ],
   "source": [
    "image"
   ]
  },
  {
   "cell_type": "code",
   "execution_count": 130,
   "metadata": {},
   "outputs": [],
   "source": [
    "bird = image[120:500, 400:800]"
   ]
  },
  {
   "cell_type": "code",
   "execution_count": 143,
   "metadata": {},
   "outputs": [],
   "source": [
    "cv2.namedWindow('bird1', cv2.WINDOW_NORMAL)\n",
    "cv2.imshow('bird1', canvas1)\n",
    "cv2.waitKey(0)\n",
    "cv2.destroyAllWindows()"
   ]
  },
  {
   "cell_type": "code",
   "execution_count": 133,
   "metadata": {},
   "outputs": [
    {
     "data": {
      "text/plain": [
       "(380, 400, 3)"
      ]
     },
     "execution_count": 133,
     "metadata": {},
     "output_type": "execute_result"
    }
   ],
   "source": [
    "bird.shape    "
   ]
  },
  {
   "cell_type": "code",
   "execution_count": 134,
   "metadata": {},
   "outputs": [],
   "source": [
    "import numpy as np"
   ]
  },
  {
   "cell_type": "code",
   "execution_count": 138,
   "metadata": {},
   "outputs": [],
   "source": [
    "canvas = np.ones((300,300,3), dtype = 'uint8')"
   ]
  },
  {
   "cell_type": "code",
   "execution_count": 142,
   "metadata": {},
   "outputs": [],
   "source": [
    "canvas1 = np.ones((300,300,3), dtype = 'uint8')"
   ]
  },
  {
   "cell_type": "code",
   "execution_count": 155,
   "metadata": {},
   "outputs": [],
   "source": [
    "green = (255,255,255)\n",
    "cv2.line(canvas, (200,0), (0,200), green, 5)\n",
    "cv2.namedWindow('bird1', cv2.WINDOW_NORMAL)\n",
    "cv2.imshow('bird1', canvas)\n",
    "cv2.waitKey(0)\n",
    "cv2.destroyAllWindows()"
   ]
  },
  {
   "cell_type": "code",
   "execution_count": null,
   "metadata": {},
   "outputs": [],
   "source": [
    "### cv2.rectangle(canvas, (0,0),(100,100), green, -1)\n",
    "cv2.namedWindow('bird1', cv2.WINDOW_NORMAL)\n",
    "cv2.imshow('bird1', canvas)\n",
    "cv2.waitKey(0)\n",
    "cv2.destroyAllWindows()"
   ]
  },
  {
   "cell_type": "code",
   "execution_count": 174,
   "metadata": {},
   "outputs": [
    {
     "name": "stdout",
     "output_type": "stream",
     "text": [
      "if\n"
     ]
    }
   ],
   "source": [
    "def reverse(string): \n",
    "    if len(string) == 0: \n",
    "        print('if')\n",
    "        return\n",
    "      \n",
    "    temp = string[0] \n",
    "     \n",
    "    #print(temp, end='')\n",
    "   # print('--')\n",
    "    #print(string[1:])\n",
    "    reverse(string[1:])\n",
    "    #print(temp, end='')\n",
    "    \n",
    "reverse('Chethan')"
   ]
  },
  {
   "cell_type": "code",
   "execution_count": 168,
   "metadata": {},
   "outputs": [
    {
     "name": "stdout",
     "output_type": "stream",
     "text": [
      "b\n"
     ]
    }
   ],
   "source": [
    "a = 'abc'\n",
    "\n",
    "b = a[0]\n",
    "b=a[1]\n",
    "\n",
    "print(b)"
   ]
  },
  {
   "cell_type": "code",
   "execution_count": 191,
   "metadata": {},
   "outputs": [],
   "source": [
    "canvas = np.zeros((300,300, 3), dtype = 'uint8')\n",
    "(X, Y) = (canvas.shape[1] //2, canvas.shape[0]//2)\n",
    "\n",
    "for i in range(0, 122):\n",
    "    r = np.random.randint(0, high = 150)\n",
    "    color = np.random.randint(0, high=256, size=(3,)).tolist()\n",
    "    pt = np.random.randint(0, high=600, size = (2,))\n",
    "    cv2.circle(canvas, tuple(pt),r, color, -1)\n",
    "\n",
    "cv2.namedWindow('bird1', cv2.WINDOW_NORMAL)\n",
    "cv2.imshow('bird1', canvas)\n",
    "cv2.waitKey(0)\n",
    "cv2.destroyAllWindows()"
   ]
  },
  {
   "cell_type": "code",
   "execution_count": 195,
   "metadata": {},
   "outputs": [],
   "source": [
    "matrix = np.float32([[1,0,-50],[0,1,-100]])\n",
    "shifted = cv2.warpAffine(image, matrix, (image.shape[1], image.shape[0]))\n",
    "\n",
    "\n",
    "cv2.namedWindow('bird1', cv2.WINDOW_NORMAL)\n",
    "cv2.imshow('bird1', shifted)\n",
    "cv2.waitKey(0)\n",
    "cv2.destroyAllWindows()"
   ]
  },
  {
   "cell_type": "code",
   "execution_count": 201,
   "metadata": {},
   "outputs": [],
   "source": [
    "image = cv2.imread(r'C:\\Users\\knataraj\\Desktop\\swan.jpg')\n",
    "\n",
    "(h,w) = image.shape[:2]\n",
    "\n",
    "center = (w//2, h//2)\n",
    "\n",
    "matrix = cv2.getRotationMatrix2D(center, -90, 2.0)\n",
    "shifted = cv2.warpAffine(image, matrix, (w, h))\n",
    "\n",
    "cv2.namedWindow('bird1', cv2.WINDOW_NORMAL)\n",
    "cv2.imshow('bird1', shifted)\n",
    "cv2.waitKey(0)\n",
    "cv2.destroyAllWindows()"
   ]
  },
  {
   "cell_type": "code",
   "execution_count": 215,
   "metadata": {},
   "outputs": [],
   "source": [
    "image = cv2.imread(r'C:\\Users\\knataraj\\Desktop\\swan.jpg')\n",
    "r = (11115.0 /image.shape[1])\n",
    "\n",
    "dim = (11115, int(image.shape[0]*r))\n",
    "\n",
    "resized = cv2.resize(image, dim, interpolation = cv2.INTER_AREA)\n",
    "cv2.namedWindow('resized', cv2.WINDOW_NORMAL)\n",
    "cv2.imshow('resized', resized)\n",
    "cv2.waitKey(0)\n",
    "cv2.destroyAllWindows()"
   ]
  },
  {
   "cell_type": "code",
   "execution_count": 230,
   "metadata": {},
   "outputs": [],
   "source": [
    "blur = cv2.bilateralFilter(image, 111, 17, 21)\n",
    "cv2.namedWindow('blur', cv2.WINDOW_NORMAL)\n",
    "cv2.imshow('blur', blur)\n",
    "cv2.waitKey(0)\n",
    "cv2.destroyAllWindows()"
   ]
  },
  {
   "cell_type": "code",
   "execution_count": null,
   "metadata": {},
   "outputs": [],
   "source": []
  }
 ],
 "metadata": {
  "kernelspec": {
   "display_name": "Python 3",
   "language": "python",
   "name": "python3"
  },
  "language_info": {
   "codemirror_mode": {
    "name": "ipython",
    "version": 3
   },
   "file_extension": ".py",
   "mimetype": "text/x-python",
   "name": "python",
   "nbconvert_exporter": "python",
   "pygments_lexer": "ipython3",
   "version": "3.7.4"
  },
  "widgets": {
   "application/vnd.jupyter.widget-state+json": {
    "state": {},
    "version_major": 2,
    "version_minor": 0
   }
  }
 },
 "nbformat": 4,
 "nbformat_minor": 2
}
