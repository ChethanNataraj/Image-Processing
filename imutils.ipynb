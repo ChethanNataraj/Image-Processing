{
 "cells": [
  {
   "cell_type": "code",
   "execution_count": 5,
   "metadata": {},
   "outputs": [],
   "source": [
    "import cv2, numpy as np"
   ]
  },
  {
   "cell_type": "markdown",
   "metadata": {},
   "source": [
    "#  Translate or Shift or Move"
   ]
  },
  {
   "cell_type": "code",
   "execution_count": 6,
   "metadata": {},
   "outputs": [],
   "source": [
    "# shift the image\n",
    "# positive value  - right and down\n",
    "# negative value - left and up\n",
    "def translate(image, x, y):\n",
    "    \n",
    "    matrix = np.float32([[1,0,x],[0,1,y]])\n",
    "    shifted = cv2.warpAffine(image, matrix, (image.shape[1], image.shape[0]))\n",
    "    return shifted"
   ]
  },
  {
   "cell_type": "code",
   "execution_count": 7,
   "metadata": {},
   "outputs": [],
   "source": [
    "# example for translating/shifting an image\n",
    "\n",
    "image = cv2.imread(r'C:\\Users\\knataraj\\Desktop\\swan.jpg')\n",
    "\n",
    "shifted = translate(image, -100, -100)\n",
    "\n",
    "cv2.namedWindow('shifted', cv2.WINDOW_NORMAL)\n",
    "cv2.imshow('shifted', shifted)\n",
    "cv2.waitKey(0)\n",
    "cv2.destroyAllWindows()"
   ]
  },
  {
   "cell_type": "markdown",
   "metadata": {},
   "source": [
    "# Rotate"
   ]
  },
  {
   "cell_type": "code",
   "execution_count": 8,
   "metadata": {},
   "outputs": [],
   "source": [
    "# rotate an image\n",
    "\n",
    "def rotation(image, angle, center = None, scale = 1):\n",
    "    (h,w) = image.shape[:2]\n",
    "    if center is None:\n",
    "        center = (w//2, h//2)\n",
    "    \n",
    "    matrix = cv2.getRotationMatrix2D(center, angle, scale)\n",
    "    rotated = cv2.warpAffine(image, matrix, (w,h))\n",
    "    return rotated\n",
    "    "
   ]
  },
  {
   "cell_type": "code",
   "execution_count": 9,
   "metadata": {},
   "outputs": [],
   "source": [
    "# example for rotating an image\n",
    "\n",
    "image = cv2.imread(r'C:\\Users\\knataraj\\Desktop\\swan.jpg')\n",
    "\n",
    "rotated = rotation(image, 180, scale = 1)\n",
    "\n",
    "cv2.namedWindow('rotated', cv2.WINDOW_NORMAL)\n",
    "cv2.imshow('rotated', rotated)\n",
    "cv2.waitKey(0)\n",
    "cv2.destroyAllWindows()"
   ]
  },
  {
   "cell_type": "markdown",
   "metadata": {},
   "source": [
    "# Resize"
   ]
  },
  {
   "cell_type": "code",
   "execution_count": 13,
   "metadata": {},
   "outputs": [],
   "source": [
    "# resize an image - pixel reduction!?\n",
    "\n",
    "def resize(image, width = None, height = None, interpolation = cv2.INTER_AREA):\n",
    "    \n",
    "    dimension = None\n",
    "    (h, w) = image.shape[:2] \n",
    "    \n",
    "    if width is None and height is None:\n",
    "        return image\n",
    "    \n",
    "    if width is None:\n",
    "        ratio = height / float(h)\n",
    "        dimension = (int(w*ratio), height)\n",
    "    else:\n",
    "        ratio = width / float(w)\n",
    "        dimension = (width, int(h * ratio))\n",
    "        \n",
    "    resized = cv2.resize(image, dimension, interpolation = interpolation)\n",
    "    return resized\n",
    "    \n",
    "    "
   ]
  },
  {
   "cell_type": "code",
   "execution_count": 19,
   "metadata": {},
   "outputs": [],
   "source": [
    "# example for resizing an image\n",
    "\n",
    "image = cv2.imread(r'C:\\Users\\knataraj\\Desktop\\swan.jpg')\n",
    "\n",
    "resized = resize(image, width = 180, height = 200)\n",
    "\n",
    "#cv2.namedWindow('resized', cv2.WINDOW_NORMAL) - to view resized image\n",
    "cv2.imshow('resized', resized)\n",
    "cv2.waitKey(0)\n",
    "cv2.destroyAllWindows()"
   ]
  },
  {
   "cell_type": "markdown",
   "metadata": {},
   "source": [
    "# Flip"
   ]
  },
  {
   "cell_type": "code",
   "execution_count": 28,
   "metadata": {},
   "outputs": [],
   "source": [
    "# flip an image\n",
    "\n",
    "# horizontal flip = 1\n",
    "# vertical flip = 0\n",
    "# horizontal and vertical flip = -1\n",
    "\n",
    "image = cv2.imread(r'C:\\Users\\knataraj\\Desktop\\swan.jpg')\n",
    "\n",
    "flipped = cv2.flip(image, 1)\n",
    "\n",
    "#cv2.namedWindow('resized', cv2.WINDOW_NORMAL) - to view resized image\n",
    "cv2.imshow('flipped', flipped)\n",
    "cv2.waitKey(0)\n",
    "cv2.destroyAllWindows()"
   ]
  },
  {
   "cell_type": "markdown",
   "metadata": {},
   "source": [
    "# Crop"
   ]
  },
  {
   "cell_type": "code",
   "execution_count": 33,
   "metadata": {},
   "outputs": [],
   "source": [
    "# croping an image by slicing\n",
    "# image[yStart:yEnd, xStart:xEnd]\n",
    "\n",
    "#  y0,x0------------xn\n",
    "#   |\n",
    "#   |\n",
    "#   |\n",
    "#   |\n",
    "#   |\n",
    "#   |\n",
    "#   yn\n",
    "\n",
    "image = cv2.imread(r'C:\\Users\\knataraj\\Desktop\\swan.jpg')\n",
    "\n",
    "cropped = image[100:700, 400:900] # image[yStart : yEnd, xStart : xEnd] # image[y,x]\n",
    "\n",
    "#cv2.namedWindow('resized', cv2.WINDOW_NORMAL) - to view resized image\n",
    "cv2.imshow('cropped', cropped)\n",
    "cv2.waitKey(0)\n",
    "cv2.destroyAllWindows()"
   ]
  },
  {
   "cell_type": "markdown",
   "metadata": {},
   "source": [
    "###### translate -> create a matrix, specify x and y \n",
    "###### rotate -> create a matrix, input the angle, find the center, specify the scale\n",
    "###### resize -> find ratio and dimention, specify interpolation\n",
    "###### flip -> 1 = horizontal flip, 0 = vertical flip, -1 = both\n",
    "###### crop -> [yStart:yEnd, xStart: xEnd]   image[y,x]"
   ]
  }
 ],
 "metadata": {
  "kernelspec": {
   "display_name": "Python 3",
   "language": "python",
   "name": "python3"
  },
  "language_info": {
   "codemirror_mode": {
    "name": "ipython",
    "version": 3
   },
   "file_extension": ".py",
   "mimetype": "text/x-python",
   "name": "python",
   "nbconvert_exporter": "python",
   "pygments_lexer": "ipython3",
   "version": "3.7.4"
  }
 },
 "nbformat": 4,
 "nbformat_minor": 2
}
